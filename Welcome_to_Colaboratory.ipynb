{
  "cells": [
    {
      "cell_type": "markdown",
      "metadata": {
        "id": "view-in-github",
        "colab_type": "text"
      },
      "source": [
        "<a href=\"https://colab.research.google.com/github/Komali-devireddy/Assignments/blob/main/Welcome_to_Colaboratory.ipynb\" target=\"_parent\"><img src=\"https://colab.research.google.com/assets/colab-badge.svg\" alt=\"Open In Colab\"/></a>"
      ]
    },
    {
      "cell_type": "code",
      "source": [
        "# Declare variables of different data types\n",
        "integer_variable = 10           # Integer\n",
        "float_variable = 20.5           # Float\n",
        "string_variable = \"Hello, World!\"  # String\n",
        "boolean_variable = True         # Boolean\n",
        "\n",
        "# Print each variable and its type\n",
        "print(\"Integer value:\", integer_variable, \"Type:\", type(integer_variable))\n",
        "print(\"Float value:\", float_variable, \"Type:\", type(float_variable))\n",
        "print(\"String value:\", string_variable, \"Type:\", type(string_variable))\n",
        "print(\"Boolean value:\", boolean_variable, \"Type:\", type(boolean_variable))\n"
      ],
      "metadata": {
        "colab": {
          "base_uri": "https://localhost:8080/"
        },
        "id": "HvqEARvAIdwm",
        "outputId": "52601e0c-7478-4476-f2b5-52aa6fe7f076"
      },
      "execution_count": 1,
      "outputs": [
        {
          "output_type": "stream",
          "name": "stdout",
          "text": [
            "Integer value: 10 Type: <class 'int'>\n",
            "Float value: 20.5 Type: <class 'float'>\n",
            "String value: Hello, World! Type: <class 'str'>\n",
            "Boolean value: True Type: <class 'bool'>\n"
          ]
        }
      ]
    }
  ],
  "metadata": {
    "colab": {
      "name": "Welcome to Colaboratory",
      "toc_visible": true,
      "provenance": [],
      "include_colab_link": true
    },
    "kernelspec": {
      "display_name": "Python 3",
      "name": "python3"
    }
  },
  "nbformat": 4,
  "nbformat_minor": 0
}